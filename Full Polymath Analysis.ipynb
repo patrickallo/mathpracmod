{
 "cells": [
  {
   "cell_type": "markdown",
   "metadata": {},
   "source": [
    "\n",
    "The first step is to find the URLs of all research-threads, and sort them by PolyMath project. We start by listing all the pages on the blog-archive."
   ]
  },
  {
   "cell_type": "code",
   "execution_count": 1,
   "metadata": {
    "collapsed": false
   },
   "outputs": [],
   "source": [
    "import requests\n",
    "from bs4 import BeautifulSoup\n",
    "\n",
    "BLOGPAGES = [\"http://polymathprojects.org/page/\"+str(i)+\"/\" for i in range(1, 6)]\n",
    "\n",
    "URLS = []\n",
    "\n",
    "for page in BLOGPAGES:\n",
    "    request = requests.get(page)\n",
    "    soup = BeautifulSoup(request.content, 'html5lib')\n",
    "    all_stories = soup.find_all(\"h3\", {\"class\": \"storytitle\"})\n",
    "    for story in all_stories:\n",
    "        URLS.append(story.find(\"a\").get(\"href\"))"
   ]
  },
  {
   "cell_type": "code",
   "execution_count": 2,
   "metadata": {
    "collapsed": true
   },
   "outputs": [],
   "source": [
    "from comment_thread import *\n",
    "\n",
    "THREADS = {url: CommentThreadPolymath(url) for url in URLS}"
   ]
  },
  {
   "cell_type": "code",
   "execution_count": 3,
   "metadata": {
    "collapsed": false
   },
   "outputs": [],
   "source": [
    "for i in range(1, 9):\n",
    "    exec(\"PM{} = {{url: thread for url, thread in THREADS.iteritems() if 'Polymath{}' in unicode.join(u' ',map(unicode,thread.post_content))}}\".format(i, i))"
   ]
  },
  {
   "cell_type": "code",
   "execution_count": 4,
   "metadata": {
    "collapsed": false
   },
   "outputs": [
    {
     "name": "stdout",
     "output_type": "stream",
     "text": [
      "http://polymathprojects.org/2012/06/15/polymath7-research-threads-2-the-hot-spots-conjecture/\n",
      "\n",
      "http://polymathprojects.org/2012/06/09/polymath7-discussion-thread/\n",
      "\n",
      "http://polymathprojects.org/2012/06/12/polymath7-research-thread-1-the-hot-spots-conjecture/\n",
      "\n",
      "http://polymathprojects.org/2012/09/10/polymath7-research-threads-4-the-hot-spots-conjecture/\n",
      "\n",
      "http://polymathprojects.org/2013/08/09/polymath7-research-thread-5-the-hot-spots-conjecture/\n",
      "\n",
      "http://polymathprojects.org/2012/06/24/polymath7-research-threads-3-the-hot-spots-conjecture/\n",
      "\n"
     ]
    }
   ],
   "source": [
    "for url in PM7.keys():\n",
    "    print url\n",
    "    print"
   ]
  },
  {
   "cell_type": "code",
   "execution_count": null,
   "metadata": {
    "collapsed": true
   },
   "outputs": [],
   "source": []
  }
 ],
 "metadata": {
  "kernelspec": {
   "display_name": "Python 3",
   "language": "python",
   "name": "python3"
  },
  "language_info": {
   "codemirror_mode": {
    "name": "ipython",
    "version": 3
   },
   "file_extension": ".py",
   "mimetype": "text/x-python",
   "name": "python",
   "nbconvert_exporter": "python",
   "pygments_lexer": "ipython3",
   "version": "3.5.1"
  }
 },
 "nbformat": 4,
 "nbformat_minor": 0
}
