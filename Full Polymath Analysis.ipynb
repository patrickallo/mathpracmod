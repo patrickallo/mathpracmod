{
 "cells": [
  {
   "cell_type": "markdown",
   "metadata": {},
   "source": [
    "\n",
    "The first step is to find the URLs of all research-threads, and sort them by PolyMath project. We start by listing all the pages on the blog-archive."
   ]
  },
  {
   "cell_type": "code",
   "execution_count": 1,
   "metadata": {
    "collapsed": false
   },
   "outputs": [],
   "source": [
    "import requests\n",
    "from bs4 import BeautifulSoup\n",
    "\n",
    "BlogPages = [\"http://polymathprojects.org/page/\"+str(i)+\"/\" for i in range(1, 6)]\n",
    "\n",
    "urls = []\n",
    "\n",
    "for page in BlogPages:\n",
    "    request = requests.get(page)\n",
    "    soup = BeautifulSoup(request.content, 'html5lib')\n",
    "    all_stories = soup.find_all(\"h3\", {\"class\": \"storytitle\"})\n",
    "    for story in all_stories:\n",
    "        urls.append(story.find(\"a\").get(\"href\"))\n",
    "\n",
    "research_threads = [url for url in urls if \"research-thread\" in url]"
   ]
  },
  {
   "cell_type": "code",
   "execution_count": 2,
   "metadata": {
    "collapsed": false
   },
   "outputs": [],
   "source": [
    "# import of classes\n",
    "from comment_thread import *\n",
    "from author_network import *\n",
    "\n",
    "def draw_for_url_list(url_list):\n",
    "    threads = [CommentThreadPolymath(url, comments_only=True) for url in url_list]\n",
    "    mthread = MultiCommentThread(*threads)\n",
    "    anetw = AuthorNetwork(mthread)\n",
    "    anetw.draw_graph()"
   ]
  },
  {
   "cell_type": "code",
   "execution_count": null,
   "metadata": {
    "collapsed": false
   },
   "outputs": [
    {
     "name": "stdout",
     "output_type": "stream",
     "text": [
      "Show labels? (default = yes) yes\n"
     ]
    }
   ],
   "source": [
    "draw_for_url_list(research_threads)"
   ]
  },
  {
   "cell_type": "code",
   "execution_count": null,
   "metadata": {
    "collapsed": true
   },
   "outputs": [],
   "source": []
  }
 ],
 "metadata": {
  "kernelspec": {
   "display_name": "Python 2",
   "language": "python",
   "name": "python2"
  },
  "language_info": {
   "codemirror_mode": {
    "name": "ipython",
    "version": 2
   },
   "file_extension": ".py",
   "mimetype": "text/x-python",
   "name": "python",
   "nbconvert_exporter": "python",
   "pygments_lexer": "ipython2",
   "version": "2.7.10"
  }
 },
 "nbformat": 4,
 "nbformat_minor": 0
}
