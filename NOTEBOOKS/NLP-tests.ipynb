{
 "cells": [
  {
   "cell_type": "code",
   "execution_count": 1,
   "metadata": {},
   "outputs": [],
   "source": [
    "from collections import Counter\n",
    "from itertools import chain\n",
    "from pandas import DataFrame\n",
    "import nltk\n",
    "from notebook_helper.process_data import *\n",
    "import seaborn as sns\n",
    "%matplotlib inline"
   ]
  },
  {
   "cell_type": "code",
   "execution_count": 2,
   "metadata": {
    "collapsed": true
   },
   "outputs": [],
   "source": [
    "PM1 = process_polymath(\"Polymath 1\", split=True)"
   ]
  },
  {
   "cell_type": "code",
   "execution_count": 171,
   "metadata": {},
   "outputs": [],
   "source": [
    "PM1_D_TREE = PM1['discussion threads', 'mthread (accumulated)'].iloc[-1].graph"
   ]
  },
  {
   "cell_type": "code",
   "execution_count": 172,
   "metadata": {
    "collapsed": true
   },
   "outputs": [],
   "source": [
    "corpus = {}\n",
    "for node, data in PM1_D_TREE.nodes_iter(data=True):\n",
    "    corpus[node] = data['com_content']"
   ]
  },
  {
   "cell_type": "code",
   "execution_count": 173,
   "metadata": {},
   "outputs": [],
   "source": [
    "features = set(chain(*corpus.values()))\n",
    "features = features.difference(nltk.corpus.stopwords.words('english'))\n",
    "corpus_counted = {node: Counter(tokens) for node, tokens in corpus.items()}"
   ]
  },
  {
   "cell_type": "code",
   "execution_count": 28,
   "metadata": {},
   "outputs": [],
   "source": [
    "data = DataFrame(index=corpus_counted.keys(),columns=sorted(list(features)), dtype='int')"
   ]
  },
  {
   "cell_type": "code",
   "execution_count": 29,
   "metadata": {},
   "outputs": [],
   "source": [
    "for row in data.index:\n",
    "    data.loc[row] = corpus_counted[row]"
   ]
  },
  {
   "cell_type": "code",
   "execution_count": 30,
   "metadata": {},
   "outputs": [],
   "source": [
    "data = data.fillna(value=0)\n",
    "data = data.astype('int')"
   ]
  },
  {
   "cell_type": "code",
   "execution_count": 63,
   "metadata": {},
   "outputs": [
    {
     "data": {
      "text/plain": [
       "CountVectorizer(analyzer='word', binary=False, decode_error='strict',\n",
       "        dtype=<class 'numpy.int64'>, encoding='utf-8', input='content',\n",
       "        lowercase=True, max_df=1.0, max_features=None, min_df=5,\n",
       "        ngram_range=(1, 1), preprocessor=None, stop_words=None,\n",
       "        strip_accents=None, token_pattern='(?u)\\\\b\\\\w\\\\w+\\\\b',\n",
       "        tokenizer=None, vocabulary=None)"
      ]
     },
     "execution_count": 63,
     "metadata": {},
     "output_type": "execute_result"
    }
   ],
   "source": [
    "from sklearn.feature_extraction.text import CountVectorizer\n",
    "vect = CountVectorizer(min_df=5)\n",
    "vect.fit(corpus.values())"
   ]
  },
  {
   "cell_type": "code",
   "execution_count": 64,
   "metadata": {},
   "outputs": [],
   "source": [
    "bagged = vect.transform(corpus)"
   ]
  },
  {
   "cell_type": "code",
   "execution_count": 62,
   "metadata": {
    "collapsed": true
   },
   "outputs": [],
   "source": [
    "from sklearn.feature_extraction.text import TfidfVectorizer"
   ]
  },
  {
   "cell_type": "markdown",
   "metadata": {},
   "source": [
    "**to do:** install spacy package!"
   ]
  },
  {
   "cell_type": "code",
   "execution_count": 125,
   "metadata": {},
   "outputs": [],
   "source": [
    "stemmer = nltk.stem.PorterStemmer\n",
    "tfvect = TfidfVectorizer(min_df=2, ngram_range=(2, 8))\n",
    "tf_corpus = tfvect.fit_transform(corpus.values())"
   ]
  },
  {
   "cell_type": "code",
   "execution_count": 126,
   "metadata": {},
   "outputs": [
    {
     "data": {
      "text/plain": [
       "array(['your idea', 'mathematical geniuses into two classes ordinary',\n",
       "       'mathematical geniuses into two classes ordinary geniuses and',\n",
       "       'mathematical ideas', 'mathematical problem', 'mathematician or',\n",
       "       'mathematician to', 'mathematics is', 'mathematics one',\n",
       "       'mathematics the', 'matter for', 'matter for those',\n",
       "       'matter for those that', 'matter for those that are',\n",
       "       'matter for those that are trying',\n",
       "       'matter for those that are trying to',\n",
       "       'matter for those that are trying to build',\n",
       "       'buried in massive conversation', 'may end', 'may end up',\n",
       "       'may end up being', 'may end up being wrong',\n",
       "       'may end up being wrong foolish',\n",
       "       'may end up being wrong foolish or',\n",
       "       'may end up being wrong foolish or naive', 'buried in massive',\n",
       "       'buried in',\n",
       "       'build reputation how does being involved in discussion', 'may or',\n",
       "       'may or may', 'may or may not',\n",
       "       'mathematical geniuses into two classes ordinary geniuses',\n",
       "       'mathematical geniuses into two classes', 'me write',\n",
       "       'mathematical geniuses into two', 'level of', 'like that',\n",
       "       'but they', 'but there are', 'but that', 'list of', 'listing of',\n",
       "       'little more', 'but one', 'll have to', 'long time', 'look at the',\n",
       "       'looking at', 'looking stupid', 'looks like', 'lot harder',\n",
       "       'lot harder than', 'but it is', 'lots of', 'majority of', 'make it',\n",
       "       'make such', 'makes this', 'but don', 'but at',\n",
       "       'massive conversation', 'massively collaborative mathematics',\n",
       "       'mathematical geniuses', 'mathematical geniuses into', 'maybe the',\n",
       "       'me write it', 'classification of', 'my ideas', 'my understanding',\n",
       "       'my understanding is', 'my understanding is that', 'name appears',\n",
       "       'name on', 'name on the', 'name on the paper', 'brox idea of',\n",
       "       'brox idea', 'bring to', 'needs to', 'new and', 'new ideas',\n",
       "       'new software', 'next days', 'next days or', 'next days or finally',\n",
       "       'next days or finally have', 'next days or finally have proof',\n",
       "       'next days or finally have proof of',\n",
       "       'next days or finally have proof of whatever', 'no longer',\n",
       "       'bothered to', 'blue sky', 'big way how we assign credit and',\n",
       "       'not genuinely', 'not genuinely parallelisable',\n",
       "       'not genuinely parallelisable can',\n",
       "       'not genuinely parallelisable can at', 'my own', 'my comment',\n",
       "       'me write it here', 'my best', 'member of', 'member of large',\n",
       "       'member of large team', 'member of large team in',\n",
       "       'member of large team in laboratory',\n",
       "       'member of large team in laboratory for',\n",
       "       'member of large team in laboratory for hiring',\n",
       "       'build reputation how does being involved in', 'mention that the',\n",
       "       'build reputation how does being involved', 'might work',\n",
       "       'might work best', 'might work best for',\n",
       "       'might work best for problems',\n",
       "       'might work best for problems which',\n",
       "       'might work best for problems which while',\n",
       "       'might work best for problems which while not', 'more suitable',\n",
       "       'build reputation how does being', 'most mathematicians',\n",
       "       'build reputation how does', 'most of my', 'most of the',\n",
       "       'most people', 'build reputation how', 'build reputation',\n",
       "       'much that', 'brox idea of hiding', 'my apologies', 'level it',\n",
       "       'level approach', 'let me write it here', 'it can', 'it comes time',\n",
       "       'it comes time to', 'chemist for', 'certainly be', 'it could be',\n",
       "       'case the', 'it doesn really', 'it doesn really matter',\n",
       "       'it doesn really matter for', 'it doesn really matter for those',\n",
       "       'it doesn really matter for those that',\n",
       "       'it doesn really matter for those that are', 'case that',\n",
       "       'capable of', 'it here', 'can write'], \n",
       "      dtype='<U67')"
      ]
     },
     "execution_count": 126,
     "metadata": {},
     "output_type": "execute_result"
    }
   ],
   "source": [
    "import numpy as np\n",
    "feature_names = np.array(tfvect.get_feature_names())\n",
    "sorted_idf = np.argsort(tfvect.idf_)[::-1]\n",
    "feature_names[sorted_idf[:150]]"
   ]
  },
  {
   "cell_type": "code",
   "execution_count": 174,
   "metadata": {
    "collapsed": true
   },
   "outputs": [],
   "source": [
    "vect = CountVectorizer(max_features=10000, max_df=.15)\n",
    "X = vect.fit_transform(corpus.values())"
   ]
  },
  {
   "cell_type": "code",
   "execution_count": 175,
   "metadata": {
    "collapsed": true
   },
   "outputs": [],
   "source": [
    "from sklearn.decomposition import LatentDirichletAllocation\n",
    "lda = LatentDirichletAllocation(n_topics=20, learning_method=\"batch\",\n",
    "                                max_iter=25, random_state=0)"
   ]
  },
  {
   "cell_type": "code",
   "execution_count": 176,
   "metadata": {
    "collapsed": true
   },
   "outputs": [],
   "source": [
    "document_topics = lda.fit_transform(X)"
   ]
  },
  {
   "cell_type": "code",
   "execution_count": 177,
   "metadata": {},
   "outputs": [
    {
     "data": {
      "text/plain": [
       "(20, 5546)"
      ]
     },
     "execution_count": 177,
     "metadata": {},
     "output_type": "execute_result"
    }
   ],
   "source": [
    "lda.components_.shape"
   ]
  },
  {
   "cell_type": "code",
   "execution_count": 178,
   "metadata": {
    "collapsed": true
   },
   "outputs": [],
   "source": [
    "sorting = np.argsort(lda.components_, axis=1)[:, ::-1]\n",
    "feature_names = np.array(vect.get_feature_names())"
   ]
  },
  {
   "cell_type": "code",
   "execution_count": 179,
   "metadata": {},
   "outputs": [
    {
     "data": {
      "text/html": [
       "<div>\n",
       "<table border=\"1\" class=\"dataframe\">\n",
       "  <thead>\n",
       "    <tr style=\"text-align: right;\">\n",
       "      <th></th>\n",
       "      <th>0</th>\n",
       "      <th>1</th>\n",
       "      <th>2</th>\n",
       "      <th>3</th>\n",
       "      <th>4</th>\n",
       "      <th>5</th>\n",
       "      <th>6</th>\n",
       "      <th>7</th>\n",
       "      <th>8</th>\n",
       "      <th>9</th>\n",
       "      <th>10</th>\n",
       "      <th>11</th>\n",
       "      <th>12</th>\n",
       "      <th>13</th>\n",
       "      <th>14</th>\n",
       "      <th>15</th>\n",
       "      <th>16</th>\n",
       "      <th>17</th>\n",
       "      <th>18</th>\n",
       "      <th>19</th>\n",
       "    </tr>\n",
       "  </thead>\n",
       "  <tbody>\n",
       "    <tr>\n",
       "      <th>0</th>\n",
       "      <td>wiki</td>\n",
       "      <td>their</td>\n",
       "      <td>above</td>\n",
       "      <td>project</td>\n",
       "      <td>solutions</td>\n",
       "      <td>paper</td>\n",
       "      <td>tier</td>\n",
       "      <td>statistics</td>\n",
       "      <td>class</td>\n",
       "      <td>idea</td>\n",
       "      <td>18</td>\n",
       "      <td>cells</td>\n",
       "      <td>paper</td>\n",
       "      <td>discussion</td>\n",
       "      <td>proof</td>\n",
       "      <td>http</td>\n",
       "      <td>type</td>\n",
       "      <td>thread</td>\n",
       "      <td>them</td>\n",
       "      <td>statistics</td>\n",
       "    </tr>\n",
       "    <tr>\n",
       "      <th>1</th>\n",
       "      <td>ve</td>\n",
       "      <td>credit</td>\n",
       "      <td>memory</td>\n",
       "      <td>ideas</td>\n",
       "      <td>gamma</td>\n",
       "      <td>their</td>\n",
       "      <td>paper</td>\n",
       "      <td>table</td>\n",
       "      <td>mathematics</td>\n",
       "      <td>question</td>\n",
       "      <td>slices</td>\n",
       "      <td>files</td>\n",
       "      <td>math</td>\n",
       "      <td>project</td>\n",
       "      <td>very</td>\n",
       "      <td>org</td>\n",
       "      <td>must</td>\n",
       "      <td>your</td>\n",
       "      <td>example</td>\n",
       "      <td>24</td>\n",
       "    </tr>\n",
       "    <tr>\n",
       "      <th>2</th>\n",
       "      <td>latex</td>\n",
       "      <td>who</td>\n",
       "      <td>arxiv</td>\n",
       "      <td>had</td>\n",
       "      <td>10</td>\n",
       "      <td>collaboration</td>\n",
       "      <td>been</td>\n",
       "      <td>pareto</td>\n",
       "      <td>number</td>\n",
       "      <td>who</td>\n",
       "      <td>slice</td>\n",
       "      <td>wordpress</td>\n",
       "      <td>affine</td>\n",
       "      <td>better</td>\n",
       "      <td>much</td>\n",
       "      <td>paper</td>\n",
       "      <td>slice</td>\n",
       "      <td>something</td>\n",
       "      <td>idea</td>\n",
       "      <td>score</td>\n",
       "    </tr>\n",
       "    <tr>\n",
       "      <th>3</th>\n",
       "      <td>com</td>\n",
       "      <td>polymath</td>\n",
       "      <td>well</td>\n",
       "      <td>polymath</td>\n",
       "      <td>solution</td>\n",
       "      <td>no</td>\n",
       "      <td>really</td>\n",
       "      <td>each</td>\n",
       "      <td>knol</td>\n",
       "      <td>no</td>\n",
       "      <td>11</td>\n",
       "      <td>pdf</td>\n",
       "      <td>tim</td>\n",
       "      <td>formula</td>\n",
       "      <td>mathematics</td>\n",
       "      <td>polymath1</td>\n",
       "      <td>cube</td>\n",
       "      <td>better</td>\n",
       "      <td>being</td>\n",
       "      <td>example</td>\n",
       "    </tr>\n",
       "    <tr>\n",
       "      <th>4</th>\n",
       "      <td>etc</td>\n",
       "      <td>question</td>\n",
       "      <td>use</td>\n",
       "      <td>who</td>\n",
       "      <td>values</td>\n",
       "      <td>contribute</td>\n",
       "      <td>etc</td>\n",
       "      <td>lookup</td>\n",
       "      <td>papers</td>\n",
       "      <td>density</td>\n",
       "      <td>adjacent</td>\n",
       "      <td>com</td>\n",
       "      <td>polymath</td>\n",
       "      <td>believe</td>\n",
       "      <td>because</td>\n",
       "      <td>title</td>\n",
       "      <td>center</td>\n",
       "      <td>comments</td>\n",
       "      <td>data</td>\n",
       "      <td>density</td>\n",
       "    </tr>\n",
       "  </tbody>\n",
       "</table>\n",
       "</div>"
      ],
      "text/plain": [
       "      0         1       2         3          4              5       6   \\\n",
       "0   wiki     their   above   project  solutions          paper    tier   \n",
       "1     ve    credit  memory     ideas      gamma          their   paper   \n",
       "2  latex       who   arxiv       had         10  collaboration    been   \n",
       "3    com  polymath    well  polymath   solution             no  really   \n",
       "4    etc  question     use       who     values     contribute     etc   \n",
       "\n",
       "           7            8         9         10         11        12  \\\n",
       "0  statistics        class      idea        18      cells     paper   \n",
       "1       table  mathematics  question    slices      files      math   \n",
       "2      pareto       number       who     slice  wordpress    affine   \n",
       "3        each         knol        no        11        pdf       tim   \n",
       "4      lookup       papers   density  adjacent        com  polymath   \n",
       "\n",
       "           13           14         15      16         17       18          19  \n",
       "0  discussion        proof       http    type     thread     them  statistics  \n",
       "1     project         very        org    must       your  example          24  \n",
       "2      better         much      paper   slice  something     idea       score  \n",
       "3     formula  mathematics  polymath1    cube     better    being     example  \n",
       "4     believe      because      title  center   comments     data     density  "
      ]
     },
     "execution_count": 179,
     "metadata": {},
     "output_type": "execute_result"
    }
   ],
   "source": [
    "DataFrame(feature_names[sorting]).T.iloc[:5]"
   ]
  },
  {
   "cell_type": "code",
   "execution_count": null,
   "metadata": {
    "collapsed": true
   },
   "outputs": [],
   "source": []
  }
 ],
 "metadata": {
  "kernelspec": {
   "display_name": "Python [default]",
   "language": "python",
   "name": "python3"
  },
  "language_info": {
   "codemirror_mode": {
    "name": "ipython",
    "version": 3
   },
   "file_extension": ".py",
   "mimetype": "text/x-python",
   "name": "python",
   "nbconvert_exporter": "python",
   "pygments_lexer": "ipython3",
   "version": "3.5.3"
  }
 },
 "nbformat": 4,
 "nbformat_minor": 2
}
