{
 "cells": [
  {
   "cell_type": "code",
   "execution_count": 1,
   "metadata": {
    "collapsed": false
   },
   "outputs": [],
   "source": [
    "import numpy as np\n",
    "from sklearn.cluster import MeanShift, estimate_bandwidth"
   ]
  },
  {
   "cell_type": "code",
   "execution_count": 7,
   "metadata": {
    "collapsed": false
   },
   "outputs": [
    {
     "name": "stdout",
     "output_type": "stream",
     "text": [
      "22683660.0 22899420.0\n"
     ]
    }
   ],
   "source": [
    "from random import randrange\n",
    "import datetime \n",
    "\n",
    "\n",
    "def random_date(start,l):\n",
    "   current = start\n",
    "   while l >= 0:\n",
    "      curr = current + datetime.timedelta(minutes=randrange(3600))\n",
    "      yield curr\n",
    "      l-=1\n",
    "\n",
    "\n",
    "\n",
    "startDate = datetime.datetime(2013, 9, 20,13,00)\n",
    "epoch = datetime.datetime(2013, 1, 1,00,00)\n",
    "\n",
    "times = [[(x - epoch).total_seconds(), int(1)] for x in random_date(startDate,500)]\n",
    "X = np.array(times)\n",
    "print(min(times)[0], max(times)[0])"
   ]
  },
  {
   "cell_type": "code",
   "execution_count": 8,
   "metadata": {
    "collapsed": false
   },
   "outputs": [
    {
     "name": "stdout",
     "output_type": "stream",
     "text": [
      "number of estimated clusters : 34\n",
      "[ 5 13 28  1 11 14 21 12  9  9 14  0  9  2  5 18  8 12 12  4 26 33  0 18 13\n",
      " 33 28  4  8 19 27 23 21  3  3  5  7  3 18 27  3  8  1 32 20 18  5  0  3 22\n",
      " 16  5 23 15  1  8 27 19  8  0  1 32 28 10 11 32 13  4 15  8 23 31  6 13 31\n",
      "  0 19  7  0  2 17 25  8  7  7  1  2 29  6  6 17 10  6 26 15  1 15 15 15  1\n",
      "  4  1 16 11 19  0 11  3 19 23 11 18 12 32  0 30 16  8  4 25 26 24 25  9 24\n",
      " 12 13  3 27  1 10  1 16 27 17  2 26 30 16  7  5 23 11  3 20 21  5  3  6 23\n",
      " 18 20 33  2  1  8 32 12 11  0  5 29 22  6 19 10 13  0  3 14 10 33 31  3  3\n",
      " 19  8  5 30 16 16  7  9 12  8 27 18 10  0  0 10 18 16 13 17 11 14  0 24 21\n",
      " 28 27 13 32 10 14  4  1  8  7 31 17 20  7 11  7 22 26 11  9 10  1 28 32 11\n",
      " 13 20  1 26  1 14 10  9  2 20 11 22 31 13 26 15 22 13 13  4  5  4 20 10  9\n",
      "  1 31 18  8 15 31 11  5  3 20  4 30  1 22 22  6  1  1  0 17 11 10 26  7 24\n",
      "  6 22 12 22 22 24 30 20 14 14  7 13 28 13 10  0  3 26 27  1 21 15  8 20 27\n",
      " 24 19  1  3 13 30  3 15  3 30 32 13  4  0  8  5 12 21 22  7  5 12 23 13 12\n",
      " 17 33  4 31  3 18 16  8  5  7 27 29 14 14 14 20 12  1 23 30 29 24 12  7 29\n",
      " 33  5 26 24  0 16 19 30 18  7 17  5 10  7 20  6  2 18 28 18 28 28 13  9 17\n",
      " 30 11  7  6 30 19 19 11 18 31  5 19  3 18  6  6 11 20 23 13  2 11  9  4 30\n",
      "  9  2 27 18 13 17  7 21  1 15  3 10 12  0  1 13 16  0  4  8  8 29  6  1  0\n",
      "  8 32 19  7 13  3 30  3  3 24  2  2 19 28  2 15  3 14  4 22 26 19  5 19  5\n",
      "  7 13 28 28  8  8 25  0 14 27 19  4 16 29  2 17  7  1 28  2  1 24 17 26 22\n",
      " 25 32  1  6  7 15 23 29  2  3 18  4  8 19  9  5 24 29 19  7  5  5 33 33 28\n",
      "  2]\n"
     ]
    }
   ],
   "source": [
    "bandwidth = estimate_bandwidth(X, quantile=0.03)\n",
    "\n",
    "ms = MeanShift(bandwidth=bandwidth, bin_seeding=True)\n",
    "ms.fit(X)\n",
    "labels = ms.labels_ # array of labels which assigns a cluster to each elt of X\n",
    "cluster_centers = ms.cluster_centers_ # array of all cluster centers\n",
    "\n",
    "labels_unique = np.unique(labels) # array of labels that designate a cluster\n",
    "n_clusters_ = len(labels_unique)\n",
    "\n",
    "print(\"number of estimated clusters : %d\" % n_clusters_)\n",
    "print(labels)\n",
    "assert len(labels) == len(X)"
   ]
  },
  {
   "cell_type": "code",
   "execution_count": 16,
   "metadata": {
    "collapsed": false
   },
   "outputs": [
    {
     "data": {
      "image/png": "[encoded data removed]",
      "text/plain": [
       "<matplotlib.figure.Figure at 0x112410390>"
      ]
     },
     "metadata": {},
     "output_type": "display_data"
    }
   ],
   "source": [
    "import matplotlib.pyplot as plt\n",
    "import matplotlib\n",
    "from itertools import cycle\n",
    "matplotlib.rcParams['figure.figsize'] = (20, 20)\n",
    "\n",
    "plt.figure(1, figsize=(15,1))\n",
    "plt.clf()\n",
    "\n",
    "colors = cycle('bgrcmykbgrcmykbgrcmykbgrcmyk')\n",
    "for k, col in zip(range(n_clusters_), colors):\n",
    "    my_members = labels == k # array of booleans for \n",
    "    cluster_center = cluster_centers[k]\n",
    "    clustered = np.sort(X[my_members, 0])\n",
    "    start, stop = datetime.timedelta(seconds=clustered[0]), datetime.timedelta(seconds=clustered[-1])\n",
    "    try:\n",
    "        gap = np.diff(clustered).max()\n",
    "        gap = datetime.timedelta(seconds=gap)\n",
    "    except:\n",
    "        gap = stop-start\n",
    "    #print(\"Cluster {} starts at {} and ends at {}\".format(k, epoch+start, epoch+stop))\n",
    "    #print(\"Duration: {}, comments: {}\".format(stop - start, len(clustered)))\n",
    "    #print(\"Largest gap: {}\".format(gap))\n",
    "    plt.plot(X[my_members, 0], X[my_members, 1], col + '|')\n",
    "    axes = plt.gca()\n",
    "    axes.set_xticklabels([])\n",
    "    axes.set_xticks([])\n",
    "    axes.set_yticklabels([])\n",
    "    axes.set_yticks([])\n",
    "    #plt.plot(cluster_center[0], cluster_center[1], 'o', markerfacecolor=col,\n",
    "    #         markeredgecolor='k', markersize=4)\n",
    "#plt.title('Estimated number of clusters: %d' % n_clusters_)\n",
    "plt.show()"
   ]
  },
  {
   "cell_type": "code",
   "execution_count": 5,
   "metadata": {
    "collapsed": false
   },
   "outputs": [
    {
     "data": {
      "text/plain": [
       "191400.0"
      ]
     },
     "execution_count": 5,
     "metadata": {},
     "output_type": "execute_result"
    }
   ],
   "source": [
    "np.diff(X[:,0]).max()"
   ]
  },
  {
   "cell_type": "code",
   "execution_count": 6,
   "metadata": {
    "collapsed": false
   },
   "outputs": [
    {
     "data": {
      "text/plain": [
       "array([25,  8,  8,  0, 24,  7, 15,  6, 18,  6, 15,  0, 22,  1, 12,  0, 23,\n",
       "       11,  5, 11,  4,  9, 30, 17, 22, 34, 27, 12, 28, 26,  6,  8, 10,  1,\n",
       "       32,  7,  2,  3,  4,  2, 13, 21,  1,  2, 19,  3,  3,  5, 25, 19,  7,\n",
       "       20,  9, 24,  0, 19, 10, 23,  1, 13,  0,  3,  5,  5, 26,  6,  6, 14,\n",
       "        6, 14, 10,  0,  4,  3, 31,  2,  4, 16,  1,  0, 17, 35, 16, 13, 11,\n",
       "       33,  5,  2,  1, 14,  4, 21, 15, 16, 20,  9, 18, 17, 12, 29,  4])"
      ]
     },
     "execution_count": 6,
     "metadata": {},
     "output_type": "execute_result"
    }
   ],
   "source": [
    "ms.labels_"
   ]
  },
  {
   "cell_type": "code",
   "execution_count": 7,
   "metadata": {
    "collapsed": false
   },
   "outputs": [
    {
     "data": {
      "text/plain": [
       "array([[  2.27894914e+07,   1.00000000e+00],\n",
       "       [  2.27050400e+07,   1.00000000e+00],\n",
       "       [  2.27816880e+07,   1.00000000e+00],\n",
       "       [  2.28728040e+07,   1.00000000e+00],\n",
       "       [  2.28084720e+07,   1.00000000e+00],\n",
       "       [  2.28851160e+07,   1.00000000e+00],\n",
       "       [  2.26957920e+07,   1.00000000e+00],\n",
       "       [  2.27568200e+07,   1.00000000e+00],\n",
       "       [  2.28244200e+07,   1.00000000e+00],\n",
       "       [  2.28695400e+07,   1.00000000e+00],\n",
       "       [  2.27211400e+07,   1.00000000e+00],\n",
       "       [  2.27949600e+07,   1.00000000e+00],\n",
       "       [  2.27261800e+07,   1.00000000e+00],\n",
       "       [  2.27106000e+07,   1.00000000e+00],\n",
       "       [  2.28424600e+07,   1.00000000e+00],\n",
       "       [  2.27428200e+07,   1.00000000e+00],\n",
       "       [  2.27169600e+07,   1.00000000e+00],\n",
       "       [  2.27749500e+07,   1.00000000e+00],\n",
       "       [  2.27698200e+07,   1.00000000e+00],\n",
       "       [  2.28482700e+07,   1.00000000e+00],\n",
       "       [  2.27000100e+07,   1.00000000e+00],\n",
       "       [  2.27375400e+07,   1.00000000e+00],\n",
       "       [  2.28938700e+07,   1.00000000e+00],\n",
       "       [  2.28172200e+07,   1.00000000e+00],\n",
       "       [  2.28287700e+07,   1.00000000e+00],\n",
       "       [  2.28889200e+07,   1.00000000e+00],\n",
       "       [  2.27636700e+07,   1.00000000e+00],\n",
       "       [  2.28564600e+07,   1.00000000e+00],\n",
       "       [  2.28395400e+07,   1.00000000e+00],\n",
       "       [  2.27992800e+07,   1.00000000e+00],\n",
       "       [  2.28618600e+07,   1.00000000e+00],\n",
       "       [  2.28339600e+07,   1.00000000e+00],\n",
       "       [  2.28966600e+07,   1.00000000e+00],\n",
       "       [  2.28140400e+07,   1.00000000e+00],\n",
       "       [  2.28783000e+07,   1.00000000e+00],\n",
       "       [  2.26847400e+07,   1.00000000e+00]])"
      ]
     },
     "execution_count": 7,
     "metadata": {},
     "output_type": "execute_result"
    }
   ],
   "source": [
    "cluster_centers\n"
   ]
  },
  {
   "cell_type": "code",
   "execution_count": 8,
   "metadata": {
    "collapsed": false
   },
   "outputs": [],
   "source": [
    "b = np.array([955920,   956940, 1023240, 1028280, 1044720, 1047660, 1052160,\n",
    "  1053120, 1073820, 1074060, 1088580, 1089180, 1089600, 1089960,\n",
    "  1093140, 1105140, 1105380, 1107300, 1119660, 1125600, 1125720,\n",
    "  1125960, 1126320, 1129380, 1130040, 1131780, 1132320, 1132980,\n",
    "  1133280, 1133280, 1133640, 1133820, 1133940, 1134960, 1136820,\n",
    "  1137660, 1138380, 1138680, 1138800, 1139640, 1139820, 1139880,\n",
    "  1140120, 1140780, 1142340, 1142580, 1142940, 1143180, 1144080,\n",
    "  1146420, 1147920, 1148640, 1152600, 1155960, 1156620, 1157760,\n",
    "  1158360, 1159560, 1159800, 1159920, 1160400, 1160460, 1161120,\n",
    "  1161360, 1162980, 1165320, 1181520, 1187100, 1194840, 1194840,\n",
    "  1195500, 1209900, 1210860, 1216080, 1216620, 1221540, 1222440,\n",
    "  1226520, 1227300, 1231440, 1233180, 1235220, 1235820, 1240800,\n",
    "  1242540, 1247340])"
   ]
  },
  {
   "cell_type": "code",
   "execution_count": 9,
   "metadata": {
    "collapsed": false
   },
   "outputs": [
    {
     "ename": "TypeError",
     "evalue": "unsupported type for timedelta seconds component: numpy.int64",
     "output_type": "error",
     "traceback": [
      "\u001b[0;31m-----------------------------------------------------------------\u001b[0m",
      "\u001b[0;31mTypeError\u001b[0m                       Traceback (most recent call last)",
      "\u001b[0;32m<ipython-input-9-8167bf0a8948>\u001b[0m in \u001b[0;36m<module>\u001b[0;34m()\u001b[0m\n\u001b[0;32m----> 1\u001b[0;31m \u001b[0mdatetime\u001b[0m\u001b[0;34m.\u001b[0m\u001b[0mtimedelta\u001b[0m\u001b[0;34m(\u001b[0m\u001b[0mseconds\u001b[0m\u001b[0;34m=\u001b[0m\u001b[0mnp\u001b[0m\u001b[0;34m.\u001b[0m\u001b[0mdiff\u001b[0m\u001b[0;34m(\u001b[0m\u001b[0mb\u001b[0m\u001b[0;34m)\u001b[0m\u001b[0;34m.\u001b[0m\u001b[0mmax\u001b[0m\u001b[0;34m(\u001b[0m\u001b[0;34m)\u001b[0m\u001b[0;34m)\u001b[0m\u001b[0;34m\u001b[0m\u001b[0m\n\u001b[0m",
      "\u001b[0;31mTypeError\u001b[0m: unsupported type for timedelta seconds component: numpy.int64"
     ]
    }
   ],
   "source": [
    "datetime.timedelta(seconds=np.diff(b).max())"
   ]
  },
  {
   "cell_type": "code",
   "execution_count": null,
   "metadata": {
    "collapsed": false
   },
   "outputs": [],
   "source": [
    "list(enumerate(list('abc'), start=1))"
   ]
  },
  {
   "cell_type": "code",
   "execution_count": 101,
   "metadata": {
    "collapsed": true
   },
   "outputs": [],
   "source": [
    "from scipy.stats import norm\n",
    "from sklearn.neighbors import KernelDensity\n",
    "import matplotlib.pyplot as plt"
   ]
  },
  {
   "cell_type": "code",
   "execution_count": 102,
   "metadata": {
    "collapsed": false
   },
   "outputs": [],
   "source": [
    "startDate = datetime.datetime(2013, 9, 20,13,00)\n",
    "epoch = datetime.datetime(2013, 1, 1,00,00)\n",
    "\n",
    "times = [(x - epoch).total_seconds() for x in random_date(startDate,100)]\n",
    "X = np.array(times)\n",
    "a, b = int(min(times)), int(max(times))"
   ]
  },
  {
   "cell_type": "code",
   "execution_count": 103,
   "metadata": {
    "collapsed": false
   },
   "outputs": [],
   "source": [
    "#----------------------------------------------------------------------\n",
    "# Plot the progression of histograms to kernels\n",
    "#X = np.concatenate((np.random.normal(0, 1, 0.3 * N),\n",
    "#                    np.random.normal(5, 1, 0.7 * N)))[:, np.newaxis]\n",
    "X = X[:, np.newaxis]\n",
    "X_plot = np.linspace(a, b, 5000)[:, np.newaxis]\n",
    "bins = np.linspace(a, b, 50)"
   ]
  },
  {
   "cell_type": "code",
   "execution_count": 104,
   "metadata": {
    "collapsed": false
   },
   "outputs": [],
   "source": [
    "fig, ax = plt.subplots()\n",
    "kde = KernelDensity(kernel='gaussian', bandwidth=5).fit(X)\n",
    "log_dens = kde.score_samples(X_plot)\n",
    "ax.fill(X_plot[:, 0], np.exp(log_dens), fc='#AAAAFF')\n",
    "plt.show()"
   ]
  },
  {
   "cell_type": "code",
   "execution_count": 105,
   "metadata": {
    "collapsed": false
   },
   "outputs": [
    {
     "data": {
      "text/plain": [
       "array([  -7.14349696,  -44.40030027, -156.1707102 , ..., -156.1707102 ,\n",
       "        -44.40030027,   -7.14349696])"
      ]
     },
     "execution_count": 105,
     "metadata": {},
     "output_type": "execute_result"
    }
   ],
   "source": [
    "log_dens"
   ]
  },
  {
   "cell_type": "code",
   "execution_count": 108,
   "metadata": {
    "collapsed": false
   },
   "outputs": [],
   "source": [
    "from scipy.cluster.hierarchy import cophenet, dendrogram, linkage\n",
    "from scipy.spatial.distance import pdist"
   ]
  },
  {
   "cell_type": "code",
   "execution_count": 110,
   "metadata": {
    "collapsed": false
   },
   "outputs": [
    {
     "name": "stdout",
     "output_type": "stream",
     "text": [
      "Cophenetic Correlation Coefficient with ward: 0.7660745582100776\n"
     ]
    }
   ],
   "source": [
    "Z = linkage(X, method='ward', metric='euclidean')\n",
    "c, _ = cophenet(Z, pdist(X))\n",
    "print(\"Cophenetic Correlation Coefficient with {}: {}\".format('ward', c))"
   ]
  },
  {
   "cell_type": "code",
   "execution_count": 111,
   "metadata": {
    "collapsed": false
   },
   "outputs": [
    {
     "data": {
      "text/plain": [
       "array([[  1.30000000e+01,   6.40000000e+01,   0.00000000e+00,\n",
       "          2.00000000e+00],\n",
       "       [  0.00000000e+00,   2.20000000e+01,   6.00000000e+01,\n",
       "          2.00000000e+00],\n",
       "       [  4.00000000e+00,   4.00000000e+01,   6.00000000e+01,\n",
       "          2.00000000e+00],\n",
       "       [  3.50000000e+01,   6.10000000e+01,   6.00000000e+01,\n",
       "          2.00000000e+00],\n",
       "       [  2.00000000e+00,   4.90000000e+01,   1.20000000e+02,\n",
       "          2.00000000e+00],\n",
       "       [  5.00000000e+00,   2.80000000e+01,   1.20000000e+02,\n",
       "          2.00000000e+00],\n",
       "       [  6.00000000e+00,   2.40000000e+01,   1.20000000e+02,\n",
       "          2.00000000e+00],\n",
       "       [  1.90000000e+01,   8.20000000e+01,   1.20000000e+02,\n",
       "          2.00000000e+00],\n",
       "       [  5.20000000e+01,   7.90000000e+01,   1.20000000e+02,\n",
       "          2.00000000e+00],\n",
       "       [  5.40000000e+01,   9.10000000e+01,   2.40000000e+02,\n",
       "          2.00000000e+00],\n",
       "       [  7.70000000e+01,   1.09000000e+02,   2.77128129e+02,\n",
       "          3.00000000e+00],\n",
       "       [  8.00000000e+00,   1.04000000e+02,   3.11769145e+02,\n",
       "          3.00000000e+00],\n",
       "       [  1.10000000e+01,   9.80000000e+01,   3.60000000e+02,\n",
       "          2.00000000e+00],\n",
       "       [  1.60000000e+01,   9.50000000e+01,   3.60000000e+02,\n",
       "          2.00000000e+00],\n",
       "       [  3.00000000e+01,   9.20000000e+01,   3.60000000e+02,\n",
       "          2.00000000e+00],\n",
       "       [  3.60000000e+01,   7.30000000e+01,   3.60000000e+02,\n",
       "          2.00000000e+00],\n",
       "       [  7.50000000e+01,   8.80000000e+01,   3.60000000e+02,\n",
       "          2.00000000e+00],\n",
       "       [  9.40000000e+01,   9.60000000e+01,   3.60000000e+02,\n",
       "          2.00000000e+00],\n",
       "       [  1.00000000e+00,   1.80000000e+01,   4.20000000e+02,\n",
       "          2.00000000e+00],\n",
       "       [  5.90000000e+01,   9.00000000e+01,   4.20000000e+02,\n",
       "          2.00000000e+00],\n",
       "       [  6.30000000e+01,   8.70000000e+01,   4.20000000e+02,\n",
       "          2.00000000e+00],\n",
       "       [  8.60000000e+01,   1.10000000e+02,   4.84974226e+02,\n",
       "          3.00000000e+00],\n",
       "       [  3.00000000e+00,   4.70000000e+01,   5.40000000e+02,\n",
       "          2.00000000e+00],\n",
       "       [  4.10000000e+01,   1.07000000e+02,   5.54256258e+02,\n",
       "          3.00000000e+00],\n",
       "       [  8.50000000e+01,   1.02000000e+02,   5.88897275e+02,\n",
       "          3.00000000e+00],\n",
       "       [  9.00000000e+00,   1.00000000e+02,   6.60000000e+02,\n",
       "          2.00000000e+00],\n",
       "       [  2.10000000e+01,   7.80000000e+01,   6.60000000e+02,\n",
       "          2.00000000e+00],\n",
       "       [  7.10000000e+01,   9.30000000e+01,   6.60000000e+02,\n",
       "          2.00000000e+00],\n",
       "       [  5.70000000e+01,   1.12000000e+02,   6.61362231e+02,\n",
       "          4.00000000e+00],\n",
       "       [  2.60000000e+01,   9.70000000e+01,   7.20000000e+02,\n",
       "          2.00000000e+00],\n",
       "       [  8.10000000e+01,   8.30000000e+01,   7.80000000e+02,\n",
       "          2.00000000e+00],\n",
       "       [  2.00000000e+01,   1.11000000e+02,   7.83836718e+02,\n",
       "          4.00000000e+00],\n",
       "       [  3.40000000e+01,   4.30000000e+01,   9.00000000e+02,\n",
       "          2.00000000e+00],\n",
       "       [  1.40000000e+01,   1.17000000e+02,   9.69948452e+02,\n",
       "          3.00000000e+00],\n",
       "       [  6.60000000e+01,   1.08000000e+02,   9.69948452e+02,\n",
       "          3.00000000e+00],\n",
       "       [  2.30000000e+01,   6.00000000e+01,   1.02000000e+03,\n",
       "          2.00000000e+00],\n",
       "       [  6.50000000e+01,   1.20000000e+02,   1.07387150e+03,\n",
       "          3.00000000e+00],\n",
       "       [  3.30000000e+01,   8.00000000e+01,   1.08000000e+03,\n",
       "          2.00000000e+00],\n",
       "       [  1.00000000e+01,   8.90000000e+01,   1.20000000e+03,\n",
       "          2.00000000e+00],\n",
       "       [  1.70000000e+01,   1.15000000e+02,   1.24707658e+03,\n",
       "          3.00000000e+00],\n",
       "       [  7.00000000e+00,   6.70000000e+01,   1.26000000e+03,\n",
       "          2.00000000e+00],\n",
       "       [  4.20000000e+01,   4.40000000e+01,   1.38000000e+03,\n",
       "          2.00000000e+00],\n",
       "       [  6.20000000e+01,   7.40000000e+01,   1.44000000e+03,\n",
       "          2.00000000e+00],\n",
       "       [  1.20000000e+01,   1.33000000e+02,   1.62812776e+03,\n",
       "          3.00000000e+00],\n",
       "       [  3.20000000e+01,   1.29000000e+02,   1.65070894e+03,\n",
       "          5.00000000e+00],\n",
       "       [  8.40000000e+01,   1.35000000e+02,   1.93509690e+03,\n",
       "          4.00000000e+00],\n",
       "       [  3.80000000e+01,   1.25000000e+02,   1.93509690e+03,\n",
       "          4.00000000e+00],\n",
       "       [  1.16000000e+02,   1.34000000e+02,   2.10690294e+03,\n",
       "          5.00000000e+00],\n",
       "       [  7.00000000e+01,   7.60000000e+01,   2.16000000e+03,\n",
       "          2.00000000e+00],\n",
       "       [  2.70000000e+01,   2.90000000e+01,   2.34000000e+03,\n",
       "          2.00000000e+00],\n",
       "       [  1.23000000e+02,   1.36000000e+02,   2.37587878e+03,\n",
       "          4.00000000e+00],\n",
       "       [  3.70000000e+01,   4.50000000e+01,   2.40000000e+03,\n",
       "          2.00000000e+00],\n",
       "       [  5.60000000e+01,   9.90000000e+01,   2.40000000e+03,\n",
       "          2.00000000e+00],\n",
       "       [  7.20000000e+01,   1.42000000e+02,   2.52879418e+03,\n",
       "          3.00000000e+00],\n",
       "       [  5.30000000e+01,   1.41000000e+02,   2.66735824e+03,\n",
       "          3.00000000e+00],\n",
       "       [  1.06000000e+02,   1.19000000e+02,   2.84256926e+03,\n",
       "          4.00000000e+00],\n",
       "       [  5.50000000e+01,   1.40000000e+02,   2.93938769e+03,\n",
       "          4.00000000e+00],\n",
       "       [  1.50000000e+01,   1.43000000e+02,   2.97912739e+03,\n",
       "          3.00000000e+00],\n",
       "       [  4.60000000e+01,   5.00000000e+01,   3.00000000e+03,\n",
       "          2.00000000e+00],\n",
       "       [  4.80000000e+01,   1.48000000e+02,   3.05191088e+03,\n",
       "          6.00000000e+00],\n",
       "       [  1.18000000e+02,   1.22000000e+02,   3.47019308e+03,\n",
       "          5.00000000e+00],\n",
       "       [  5.80000000e+01,   1.31000000e+02,   3.63730670e+03,\n",
       "          3.00000000e+00],\n",
       "       [  1.05000000e+02,   1.38000000e+02,   3.81837662e+03,\n",
       "          4.00000000e+00],\n",
       "       [  1.14000000e+02,   1.37000000e+02,   3.87298335e+03,\n",
       "          5.00000000e+00],\n",
       "       [  5.10000000e+01,   1.46000000e+02,   4.19318018e+03,\n",
       "          5.00000000e+00],\n",
       "       [  1.32000000e+02,   1.49000000e+02,   4.80099990e+03,\n",
       "          6.00000000e+00],\n",
       "       [  6.90000000e+01,   1.03000000e+02,   4.81510125e+03,\n",
       "          3.00000000e+00],\n",
       "       [  6.80000000e+01,   1.62000000e+02,   5.36438254e+03,\n",
       "          4.00000000e+00],\n",
       "       [  1.24000000e+02,   1.26000000e+02,   5.40668475e+03,\n",
       "          5.00000000e+00],\n",
       "       [  1.27000000e+02,   1.52000000e+02,   5.98212337e+03,\n",
       "          4.00000000e+00],\n",
       "       [  3.10000000e+01,   1.51000000e+02,   6.33720443e+03,\n",
       "          5.00000000e+00],\n",
       "       [  1.30000000e+02,   1.55000000e+02,   6.72349909e+03,\n",
       "          5.00000000e+00],\n",
       "       [  1.21000000e+02,   1.63000000e+02,   7.34846923e+03,\n",
       "          6.00000000e+00],\n",
       "       [  1.28000000e+02,   1.54000000e+02,   7.91637796e+03,\n",
       "          5.00000000e+00],\n",
       "       [  1.50000000e+02,   1.57000000e+02,   8.67119369e+03,\n",
       "          6.00000000e+00],\n",
       "       [  1.45000000e+02,   1.61000000e+02,   9.68664648e+03,\n",
       "          1.00000000e+01],\n",
       "       [  3.90000000e+01,   1.56000000e+02,   9.88527997e+03,\n",
       "          5.00000000e+00],\n",
       "       [  2.50000000e+01,   1.66000000e+02,   1.00292942e+04,\n",
       "          7.00000000e+00],\n",
       "       [  1.01000000e+02,   1.69000000e+02,   1.02027022e+04,\n",
       "          7.00000000e+00],\n",
       "       [  1.44000000e+02,   1.59000000e+02,   1.02556599e+04,\n",
       "          5.00000000e+00],\n",
       "       [  1.39000000e+02,   1.58000000e+02,   1.06584502e+04,\n",
       "          5.00000000e+00],\n",
       "       [  1.13000000e+02,   1.47000000e+02,   1.17330559e+04,\n",
       "          6.00000000e+00],\n",
       "       [  1.71000000e+02,   1.78000000e+02,   1.60523050e+04,\n",
       "          1.20000000e+01],\n",
       "       [  1.53000000e+02,   1.72000000e+02,   1.61661106e+04,\n",
       "          7.00000000e+00],\n",
       "       [  1.64000000e+02,   1.70000000e+02,   1.71711677e+04,\n",
       "          9.00000000e+00],\n",
       "       [  1.60000000e+02,   1.75000000e+02,   1.84691527e+04,\n",
       "          1.20000000e+01],\n",
       "       [  1.67000000e+02,   1.74000000e+02,   2.10612834e+04,\n",
       "          8.00000000e+00],\n",
       "       [  1.68000000e+02,   1.82000000e+02,   2.31905731e+04,\n",
       "          1.00000000e+01],\n",
       "       [  1.65000000e+02,   1.81000000e+02,   2.38812060e+04,\n",
       "          1.00000000e+01],\n",
       "       [  1.76000000e+02,   1.77000000e+02,   2.45237305e+04,\n",
       "          1.50000000e+01],\n",
       "       [  1.73000000e+02,   1.79000000e+02,   2.93377994e+04,\n",
       "          1.30000000e+01],\n",
       "       [  1.84000000e+02,   1.86000000e+02,   5.09329679e+04,\n",
       "          1.90000000e+01],\n",
       "       [  1.85000000e+02,   1.87000000e+02,   5.32098908e+04,\n",
       "          1.70000000e+01],\n",
       "       [  1.80000000e+02,   1.91000000e+02,   5.83509005e+04,\n",
       "          1.80000000e+01],\n",
       "       [  1.83000000e+02,   1.88000000e+02,   7.46750693e+04,\n",
       "          2.20000000e+01],\n",
       "       [  1.89000000e+02,   1.90000000e+02,   7.80392812e+04,\n",
       "          2.50000000e+01],\n",
       "       [  1.92000000e+02,   1.94000000e+02,   1.71967062e+05,\n",
       "          3.70000000e+01],\n",
       "       [  1.93000000e+02,   1.96000000e+02,   1.95416815e+05,\n",
       "          4.20000000e+01],\n",
       "       [  1.95000000e+02,   1.97000000e+02,   3.02568089e+05,\n",
       "          5.90000000e+01],\n",
       "       [  1.98000000e+02,   1.99000000e+02,   7.52873064e+05,\n",
       "          1.01000000e+02]])"
      ]
     },
     "execution_count": 111,
     "metadata": {},
     "output_type": "execute_result"
    }
   ],
   "source": [
    "Z"
   ]
  },
  {
   "cell_type": "code",
   "execution_count": 112,
   "metadata": {
    "collapsed": true
   },
   "outputs": [],
   "source": [
    "ddata = dendrogram(Z, color_threshold=.07,\n",
    "                              no_plot=False)"
   ]
  },
  {
   "cell_type": "code",
   "execution_count": null,
   "metadata": {
    "collapsed": true
   },
   "outputs": [],
   "source": []
  }
 ],
 "metadata": {
  "anaconda-cloud": {},
  "kernelspec": {
   "display_name": "Python [default]",
   "language": "python",
   "name": "python3"
  },
  "language_info": {
   "codemirror_mode": {
    "name": "ipython",
    "version": 3
   },
   "file_extension": ".py",
   "mimetype": "text/x-python",
   "name": "python",
   "nbconvert_exporter": "python",
   "pygments_lexer": "ipython3",
   "version": "3.5.2"
  }
 },
 "nbformat": 4,
 "nbformat_minor": 0
}
