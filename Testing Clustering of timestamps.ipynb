{
 "cells": [
  {
   "cell_type": "code",
   "execution_count": 3,
   "metadata": {
    "collapsed": false
   },
   "outputs": [],
   "source": [
    "import numpy as np\n",
    "from sklearn.cluster import MeanShift, estimate_bandwidth"
   ]
  },
  {
   "cell_type": "code",
   "execution_count": 4,
   "metadata": {
    "collapsed": false
   },
   "outputs": [],
   "source": [
    "from random import randrange\n",
    "import datetime \n",
    "\n",
    "\n",
    "def random_date(start,l):\n",
    "   current = start\n",
    "   while l >= 0:\n",
    "      curr = current + datetime.timedelta(minutes=randrange(3600))\n",
    "      yield curr\n",
    "      l-=1\n",
    "\n",
    "\n",
    "\n",
    "startDate = datetime.datetime(2013, 9, 20,13,00)\n",
    "epoch = datetime.datetime(2013, 1, 1,00,00)\n",
    "\n",
    "times = [[(x - epoch).total_seconds(), int(1)] for x in random_date(startDate,100)]\n",
    "X = np.array(times)"
   ]
  },
  {
   "cell_type": "code",
   "execution_count": 6,
   "metadata": {
    "collapsed": false
   },
   "outputs": [
    {
     "name": "stdout",
     "output_type": "stream",
     "text": [
      "number of estimated clusters : 37\n",
      "[17 29 13 10  0 16  1  7 27  9 19 18  5  0  7 33  4 14  2 15  4  8  0 23 17\n",
      " 14 17 26 15 22  8 32 36 12 25  2 20 27  6  0 18  3  7 21  7  1  2 11  0 21\n",
      "  1  3  9 34  5 13 10  6  1 14 24  4 31 12 35  5 26  9 11 20 19  6  1 28 26\n",
      "  3 16  8  4 24 13 27 15  5  7  3  1  9 10  8 16  6  3 10 22  0 12 30  0 25\n",
      "  4]\n"
     ]
    }
   ],
   "source": [
    "bandwidth = estimate_bandwidth(X, quantile=0.03)\n",
    "\n",
    "ms = MeanShift(bandwidth=bandwidth, bin_seeding=True)\n",
    "ms.fit(X)\n",
    "labels = ms.labels_ # array of labels which assigns a cluster to each elt of X\n",
    "cluster_centers = ms.cluster_centers_ # array of all cluster centers\n",
    "\n",
    "labels_unique = np.unique(labels) # array of labels that designate a cluster\n",
    "n_clusters_ = len(labels_unique)\n",
    "\n",
    "print(\"number of estimated clusters : %d\" % n_clusters_)\n",
    "print(labels)\n",
    "assert len(labels) == len(X)"
   ]
  },
  {
   "cell_type": "code",
   "execution_count": null,
   "metadata": {
    "collapsed": false
   },
   "outputs": [],
   "source": [
    "import matplotlib.pyplot as plt\n",
    "import matplotlib\n",
    "from itertools import cycle\n",
    "matplotlib.rcParams['figure.figsize'] = (20, 20)\n",
    "\n",
    "plt.figure(1)\n",
    "plt.clf()\n",
    "\n",
    "colors = cycle('bgrcmykbgrcmykbgrcmykbgrcmyk')\n",
    "for k, col in zip(range(n_clusters_), colors):\n",
    "    my_members = labels == k # array of booleans for \n",
    "    cluster_center = cluster_centers[k]\n",
    "    clustered = np.sort(X[my_members, 0])\n",
    "    start, stop = datetime.timedelta(seconds=clustered[0]), datetime.timedelta(seconds=clustered[-1])\n",
    "    try:\n",
    "        gap = np.diff(clustered).max()\n",
    "        gap = datetime.timedelta(seconds=gap)\n",
    "    except:\n",
    "        gap = stop-start\n",
    "    print(\"Cluster {} starts at {} and ends at {}\".format(k, epoch+start, epoch+stop))\n",
    "    print(\"Duration: {}, comments: {}\".format(stop - start, len(clustered)))\n",
    "    print(\"Largest gap: {}\".format(gap))\n",
    "    plt.plot(X[my_members, 0], X[my_members, 1], col + '|')\n",
    "    plt.plot(cluster_center[0], cluster_center[1], 'o', markerfacecolor=col,\n",
    "             markeredgecolor='k', markersize=4)\n",
    "plt.title('Estimated number of clusters: %d' % n_clusters_)\n",
    "plt.show()"
   ]
  },
  {
   "cell_type": "code",
   "execution_count": null,
   "metadata": {
    "collapsed": false
   },
   "outputs": [],
   "source": [
    "np.diff(X[:,0]).max()"
   ]
  },
  {
   "cell_type": "code",
   "execution_count": null,
   "metadata": {
    "collapsed": false
   },
   "outputs": [],
   "source": [
    "ms.labels_"
   ]
  },
  {
   "cell_type": "code",
   "execution_count": null,
   "metadata": {
    "collapsed": false
   },
   "outputs": [],
   "source": [
    "cluster_centers\n"
   ]
  },
  {
   "cell_type": "code",
   "execution_count": null,
   "metadata": {
    "collapsed": false
   },
   "outputs": [],
   "source": [
    "b = np.array([955920,   956940, 1023240, 1028280, 1044720, 1047660, 1052160,\n",
    "  1053120, 1073820, 1074060, 1088580, 1089180, 1089600, 1089960,\n",
    "  1093140, 1105140, 1105380, 1107300, 1119660, 1125600, 1125720,\n",
    "  1125960, 1126320, 1129380, 1130040, 1131780, 1132320, 1132980,\n",
    "  1133280, 1133280, 1133640, 1133820, 1133940, 1134960, 1136820,\n",
    "  1137660, 1138380, 1138680, 1138800, 1139640, 1139820, 1139880,\n",
    "  1140120, 1140780, 1142340, 1142580, 1142940, 1143180, 1144080,\n",
    "  1146420, 1147920, 1148640, 1152600, 1155960, 1156620, 1157760,\n",
    "  1158360, 1159560, 1159800, 1159920, 1160400, 1160460, 1161120,\n",
    "  1161360, 1162980, 1165320, 1181520, 1187100, 1194840, 1194840,\n",
    "  1195500, 1209900, 1210860, 1216080, 1216620, 1221540, 1222440,\n",
    "  1226520, 1227300, 1231440, 1233180, 1235220, 1235820, 1240800,\n",
    "  1242540, 1247340])"
   ]
  },
  {
   "cell_type": "code",
   "execution_count": null,
   "metadata": {
    "collapsed": false
   },
   "outputs": [],
   "source": [
    "datetime.timedelta(seconds=np.diff(b).max())"
   ]
  },
  {
   "cell_type": "code",
   "execution_count": null,
   "metadata": {
    "collapsed": false
   },
   "outputs": [],
   "source": [
    "list(enumerate(list('abc'), start=1))"
   ]
  },
  {
   "cell_type": "code",
   "execution_count": null,
   "metadata": {
    "collapsed": true
   },
   "outputs": [],
   "source": []
  }
 ],
 "metadata": {
  "kernelspec": {
   "display_name": "Python 3",
   "language": "python",
   "name": "python3"
  },
  "language_info": {
   "codemirror_mode": {
    "name": "ipython",
    "version": 3
   },
   "file_extension": ".py",
   "mimetype": "text/x-python",
   "name": "python",
   "nbconvert_exporter": "python",
   "pygments_lexer": "ipython3",
   "version": "3.5.1"
  }
 },
 "nbformat": 4,
 "nbformat_minor": 0
}
