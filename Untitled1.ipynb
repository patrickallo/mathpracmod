{
 "cells": [
  {
   "cell_type": "code",
   "execution_count": 10,
   "metadata": {
    "collapsed": true
   },
   "outputs": [],
   "source": [
    "from datetime import datetime\n",
    "import yaml\n",
    "from bs4 import BeautifulSoup"
   ]
  },
  {
   "cell_type": "code",
   "execution_count": 13,
   "metadata": {
    "collapsed": false
   },
   "outputs": [
    {
     "data": {
      "text/plain": [
       "datetime.datetime(2016, 1, 13, 10, 4, 23, 688345)"
      ]
     },
     "execution_count": 13,
     "metadata": {},
     "output_type": "execute_result"
    }
   ],
   "source": [
    "timestamp = datetime.now()\n",
    "timestamp"
   ]
  },
  {
   "cell_type": "code",
   "execution_count": 7,
   "metadata": {
    "collapsed": true
   },
   "outputs": [],
   "source": [
    "YAML = \"date: 2016-01-13 00:00:00\""
   ]
  },
  {
   "cell_type": "code",
   "execution_count": 8,
   "metadata": {
    "collapsed": false
   },
   "outputs": [
    {
     "data": {
      "text/plain": [
       "{'date': datetime.datetime(2016, 1, 13, 0, 0)}"
      ]
     },
     "execution_count": 8,
     "metadata": {},
     "output_type": "execute_result"
    }
   ],
   "source": [
    "SETTINGS = yaml.load(YAML)\n",
    "SETTINGS"
   ]
  },
  {
   "cell_type": "code",
   "execution_count": 9,
   "metadata": {
    "collapsed": false
   },
   "outputs": [
    {
     "data": {
      "text/plain": [
       "True"
      ]
     },
     "execution_count": 9,
     "metadata": {},
     "output_type": "execute_result"
    }
   ],
   "source": [
    "isinstance(SETTINGS['date'], datetime)"
   ]
  },
  {
   "cell_type": "code",
   "execution_count": 12,
   "metadata": {
    "collapsed": false
   },
   "outputs": [
    {
     "data": {
      "text/plain": [
       "('http://gowers.wordpress.com/2009/01/27/is-massively-collaborative-mathematics-possible/',\n",
       " 'http://gowers.wordpress.com/2009/02/01/a-combinatorial-approach-to-density-hales-jewett/',\n",
       " 'http://terrytao.wordpress.com/2009/02/05/upper-and-lower-bounds-for-the-density-hales-jewett-problem/',\n",
       " 'http://gowers.wordpress.com/2009/02/06/dhj-the-triangle-removal-approach/',\n",
       " 'http://gowers.wordpress.com/2009/02/08/dhj-quasirandomness-and-obstructions-to-uniformity',\n",
       " 'http://gowers.wordpress.com/2009/02/13/dhj-possible-proof-strategies/#more-441/',\n",
       " 'http://terrytao.wordpress.com/2009/02/11/a-reading-seminar-on-density-hales-jewett/',\n",
       " 'http://terrytao.wordpress.com/2009/02/13/bounds-for-the-first-few-density-hales-jewett-numbers-and-related-quantities/',\n",
       " 'http://gowers.wordpress.com/2009/02/23/brief-review-of-polymath1/',\n",
       " 'http://gowers.wordpress.com/2009/03/02/dhj3-851-899/',\n",
       " 'http://terrytao.wordpress.com/2009/03/04/dhj3-900-999-density-hales-jewett-type-numbers/',\n",
       " 'http://gowers.wordpress.com/2009/03/10/problem-solved-probably/',\n",
       " 'http://gowers.wordpress.com/2009/03/10/polymath1-and-open-collaborative-mathematics/',\n",
       " 'http://gowers.wordpress.com/2009/03/16/dhj3-and-related-results-1050-1099/',\n",
       " 'http://terrytao.wordpress.com/2009/03/14/dhj3-1100-1199-density-hales-jewett-type-numbers/',\n",
       " 'http://gilkalai.wordpress.com/2009/03/25/an-open-discussion-and-polls-around-roths-theorem/',\n",
       " 'http://terrytao.wordpress.com/2009/03/30/dhjk-1200-1299-density-hales-jewett-type-numbers/',\n",
       " 'http://terrytao.wordpress.com/2009/05/22/dhj-writing-the-second-paper/',\n",
       " 'http://terrytao.wordpress.com/2009/06/14/dhj-still-writing-the-second-paper/',\n",
       " 'http://gowers.wordpress.com/2009/06/25/dhj-write-up-and-other-matters/',\n",
       " 'http://terrytao.wordpress.com/2009/07/09/dhj-writing-the-second-paper-iii/',\n",
       " 'http://terrytao.wordpress.com/2010/01/15/density-hales-jewett-and-moser-numbers-nearing-the-final-draft')"
      ]
     },
     "execution_count": 12,
     "metadata": {},
     "output_type": "execute_result"
    }
   ],
   "source": [
    "with open(\"DATA/pm1.txt\", 'rt') as input:\n",
    "    soup = BeautifulSoup(input.readline(), \"html.parser\")\n",
    "urls, titles = zip(*[(item.get(\"href\"), item.text) for item in soup.find_all(\"a\")])\n",
    "urls"
   ]
  },
  {
   "cell_type": "code",
   "execution_count": 15,
   "metadata": {
    "collapsed": false
   },
   "outputs": [
    {
     "data": {
      "text/plain": [
       "1"
      ]
     },
     "execution_count": 15,
     "metadata": {},
     "output_type": "execute_result"
    }
   ],
   "source": [
    "min([1, 2])"
   ]
  },
  {
   "cell_type": "code",
   "execution_count": 25,
   "metadata": {
    "collapsed": false
   },
   "outputs": [
    {
     "data": {
      "text/plain": [
       "[1, 2, 3]"
      ]
     },
     "execution_count": 25,
     "metadata": {},
     "output_type": "execute_result"
    }
   ],
   "source": [
    "a = [2, 3, 1]\n",
    "a.sort()\n",
    "a"
   ]
  },
  {
   "cell_type": "code",
   "execution_count": 24,
   "metadata": {
    "collapsed": true
   },
   "outputs": [],
   "source": [
    "[2, 1].sort()\n"
   ]
  },
  {
   "cell_type": "code",
   "execution_count": 26,
   "metadata": {
    "collapsed": false
   },
   "outputs": [
    {
     "data": {
      "text/plain": [
       "[]"
      ]
     },
     "execution_count": 26,
     "metadata": {},
     "output_type": "execute_result"
    }
   ],
   "source": [
    "sorted(range(5,-1))"
   ]
  },
  {
   "cell_type": "code",
   "execution_count": null,
   "metadata": {
    "collapsed": true
   },
   "outputs": [],
   "source": []
  }
 ],
 "metadata": {
  "kernelspec": {
   "display_name": "Python 3",
   "language": "python",
   "name": "python3"
  },
  "language_info": {
   "codemirror_mode": {
    "name": "ipython",
    "version": 3
   },
   "file_extension": ".py",
   "mimetype": "text/x-python",
   "name": "python",
   "nbconvert_exporter": "python",
   "pygments_lexer": "ipython3",
   "version": "3.5.1"
  }
 },
 "nbformat": 4,
 "nbformat_minor": 0
}
